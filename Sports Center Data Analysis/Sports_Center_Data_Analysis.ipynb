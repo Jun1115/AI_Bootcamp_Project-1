{
 "cells": [
  {
   "cell_type": "code",
   "execution_count": 210,
   "metadata": {},
   "outputs": [],
   "source": [
    "# -요청사항-\n",
    "# 저희 스포츠 센터에는 '종일회원', 낮에만 사용가능한 '주간회원', 밤에만 사용가능한 '야간회원' 3종류의 회원 구분이 있습니다. 또, 일반적으로 '입회비'가 들지만, \n",
    "# 비정기적으로 '할인행사'로 신규회원을 늘리고 있습니다. 탈퇴하려면 '월말까지 신청'하면 그 다음 달 말에 탈퇴가 됩니다."
   ]
  },
  {
   "cell_type": "markdown",
   "metadata": {},
   "source": [
    "# 데이터 분석\n",
    "\n",
    "목적 : 스포츠센터에서 받은 데이터를 전처리 - 시각화- 분석하여 다양한 정보들을 보기 쉬운 자료를 만들어 전략적으로 분석 후 고객에게 앞으로 나아가야할 방향성을 제시하고자 한다.\n",
    "\n",
    "1. user_log 데이터를 통해 얻을 수 있는 정보\n",
    "\n",
    "    1-1. 1년 간 헬스장 이용 수\n",
    "\n",
    "    1-2. 성별에 따른 스포츠센터 방문 수 차이\n",
    "\n",
    "2. customer_master 데이터를 통해 얻을 수 있는 정보\n",
    "\n",
    "    2-1. 2019년 3월 말 시점 실질적 회원수\n",
    "\n",
    "    2-2. 성별 회원 분석\n",
    "\n",
    "    2-3. 월별 탈퇴 회원 수를 분석\n",
    "\n",
    "    2-4. 월별 회원가입 수를 분석\n",
    "\n",
    "3. class_master 데이터를 통해 얻을 수 있는 정보\n",
    " \n",
    "    3-1. 2번과 연계할 자료(class : 종일, 주간, 야간)\n",
    "    \n",
    "4. campaign_master 데이터를 통해 얻을 수 있는 정보\n",
    "\n",
    "    4-1. 2번과 연계할 자료 (혜택 : 일반, 50%, Free)\n",
    "\n",
    "5. 시각화 - 전처리한 데이터(월, 혜택, 시간대, 성별, 탈퇴, 방문, class 등)을 조합하여 가시화\n",
    "\n",
    "6. 결론 - 전략적 분석 컨설팅"
   ]
  },
  {
   "cell_type": "code",
   "execution_count": 211,
   "metadata": {},
   "outputs": [],
   "source": [
    "import pandas as pd\n",
    "import matplotlib.pyplot as plt \n",
    "import seaborn as sns\n",
    "from matplotlib import font_manager, rc\n",
    "font_name = font_manager.FontProperties(fname=\"c:/Windows/Fonts/malgun.ttf\").get_name()\n",
    "rc('font', family=font_name)\n",
    "user_log = pd.read_csv('data3/use_log.csv')\n",
    "customer_master = pd.read_csv('data3/customer_master.csv')\n",
    "class_master = pd.read_csv('data3/class_master.csv')\n",
    "campaign_master = pd.read_csv('data3/campaign_master.csv')"
   ]
  },
  {
   "cell_type": "markdown",
   "metadata": {},
   "source": [
    "### 1. user_log 데이터를 통해 얻을 수 있는 정보\n",
    "\n",
    "1-1. 1년 간 헬스장 이용 수\n",
    "\n",
    "1-2. customer_master를 사용하여 성별에 따른 이용 차이"
   ]
  },
  {
   "cell_type": "code",
   "execution_count": 212,
   "metadata": {},
   "outputs": [
    {
     "data": {
      "text/html": [
       "<div>\n",
       "<style scoped>\n",
       "    .dataframe tbody tr th:only-of-type {\n",
       "        vertical-align: middle;\n",
       "    }\n",
       "\n",
       "    .dataframe tbody tr th {\n",
       "        vertical-align: top;\n",
       "    }\n",
       "\n",
       "    .dataframe thead th {\n",
       "        text-align: right;\n",
       "    }\n",
       "</style>\n",
       "<table border=\"1\" class=\"dataframe\">\n",
       "  <thead>\n",
       "    <tr style=\"text-align: right;\">\n",
       "      <th></th>\n",
       "      <th>log_id</th>\n",
       "      <th>customer_id</th>\n",
       "      <th>usedate</th>\n",
       "    </tr>\n",
       "  </thead>\n",
       "  <tbody>\n",
       "    <tr>\n",
       "      <th>0</th>\n",
       "      <td>L00000049012330</td>\n",
       "      <td>AS009373</td>\n",
       "      <td>2018-04-01</td>\n",
       "    </tr>\n",
       "  </tbody>\n",
       "</table>\n",
       "</div>"
      ],
      "text/plain": [
       "            log_id customer_id     usedate\n",
       "0  L00000049012330    AS009373  2018-04-01"
      ]
     },
     "execution_count": 212,
     "metadata": {},
     "output_type": "execute_result"
    }
   ],
   "source": [
    "user_log.head(1) # 2018년 4월 부터 2019년 3월 까지 1년 동안의 유저의 활동 로그"
   ]
  },
  {
   "cell_type": "code",
   "execution_count": 213,
   "metadata": {},
   "outputs": [
    {
     "data": {
      "text/plain": [
       "log_id         197428\n",
       "customer_id    197428\n",
       "usedate        197428\n",
       "dtype: int64"
      ]
     },
     "execution_count": 213,
     "metadata": {},
     "output_type": "execute_result"
    }
   ],
   "source": [
    "# 1년 간 헬스장 방문수 합계 = 197428명\n",
    "user_log.count()"
   ]
  },
  {
   "cell_type": "markdown",
   "metadata": {},
   "source": [
    "### 2. customer_master 데이터를 통해 얻을 수 있는 정보\n",
    "\n",
    "2-1. 'end_date' 의 null 값 = 2842, 2019년 3월 말 시점에 1,350명이 탈퇴하고 실질적 회원수는 2,842명\n",
    "\n",
    "2-2. 성별 차이\n",
    "\n",
    "2-3. 'end_date' 를 통해 월별 탈퇴 회원 수를 분석 가능\n",
    "\n",
    "2-4. 'start_date' 를 통해 월별 회원가입 수를 분석 가능"
   ]
  },
  {
   "cell_type": "code",
   "execution_count": 214,
   "metadata": {},
   "outputs": [
    {
     "data": {
      "text/html": [
       "<div>\n",
       "<style scoped>\n",
       "    .dataframe tbody tr th:only-of-type {\n",
       "        vertical-align: middle;\n",
       "    }\n",
       "\n",
       "    .dataframe tbody tr th {\n",
       "        vertical-align: top;\n",
       "    }\n",
       "\n",
       "    .dataframe thead th {\n",
       "        text-align: right;\n",
       "    }\n",
       "</style>\n",
       "<table border=\"1\" class=\"dataframe\">\n",
       "  <thead>\n",
       "    <tr style=\"text-align: right;\">\n",
       "      <th></th>\n",
       "      <th>customer_id</th>\n",
       "      <th>name</th>\n",
       "      <th>class</th>\n",
       "      <th>gender</th>\n",
       "      <th>start_date</th>\n",
       "      <th>end_date</th>\n",
       "      <th>campaign_id</th>\n",
       "      <th>is_deleted</th>\n",
       "    </tr>\n",
       "  </thead>\n",
       "  <tbody>\n",
       "    <tr>\n",
       "      <th>0</th>\n",
       "      <td>OA832399</td>\n",
       "      <td>XXXX</td>\n",
       "      <td>C01</td>\n",
       "      <td>F</td>\n",
       "      <td>2015-05-01 00:00:00</td>\n",
       "      <td>NaN</td>\n",
       "      <td>CA1</td>\n",
       "      <td>0</td>\n",
       "    </tr>\n",
       "  </tbody>\n",
       "</table>\n",
       "</div>"
      ],
      "text/plain": [
       "  customer_id  name class gender           start_date end_date campaign_id  \\\n",
       "0    OA832399  XXXX   C01      F  2015-05-01 00:00:00      NaN         CA1   \n",
       "\n",
       "   is_deleted  \n",
       "0           0  "
      ]
     },
     "execution_count": 214,
     "metadata": {},
     "output_type": "execute_result"
    }
   ],
   "source": [
    "# 2019년 3월 말 시점의 회원 데이터\n",
    "customer_master.head(1)"
   ]
  },
  {
   "cell_type": "code",
   "execution_count": 215,
   "metadata": {},
   "outputs": [
    {
     "data": {
      "text/plain": [
       "customer_id       0\n",
       "name              0\n",
       "class             0\n",
       "gender            0\n",
       "start_date        0\n",
       "end_date       2842\n",
       "campaign_id       0\n",
       "is_deleted        0\n",
       "dtype: int64"
      ]
     },
     "execution_count": 215,
     "metadata": {},
     "output_type": "execute_result"
    }
   ],
   "source": [
    "#2-1\n",
    "# 현재 스포츠센터의 회원수 = 2,842명\n",
    "# 'end_date' columns에 정보가 null 인 것은 탈퇴하지 않은 상태라고 볼 수 있음\n",
    "# 결측치가 'end_date' columns 에만 존재하는 것을 확인 가능\n",
    "customer_master.isnull().sum()"
   ]
  },
  {
   "cell_type": "code",
   "execution_count": 216,
   "metadata": {},
   "outputs": [
    {
     "data": {
      "text/plain": [
       "customer_id    1352\n",
       "name           1352\n",
       "class          1352\n",
       "gender         1352\n",
       "start_date     1352\n",
       "end_date       1352\n",
       "campaign_id    1352\n",
       "is_deleted     1352\n",
       "dtype: int64"
      ]
     },
     "execution_count": 216,
     "metadata": {},
     "output_type": "execute_result"
    }
   ],
   "source": [
    "# 2-2\n",
    "# null 값을 '회원'로 치환하여 표기\n",
    "customer_master_1 = customer_master.fillna('회원')\n",
    "customer_master_1[(customer_master_1['gender']=='F') & (customer_master_1['end_date'] == '회원')].count()\n",
    "# 현재 여성회원의 수 = 1,352명\n",
    "# 현재 남성회원의 수 = 1,490명"
   ]
  },
  {
   "cell_type": "code",
   "execution_count": 217,
   "metadata": {},
   "outputs": [
    {
     "data": {
      "text/plain": [
       "104365"
      ]
     },
     "execution_count": 217,
     "metadata": {},
     "output_type": "execute_result"
    }
   ],
   "source": [
    "# customer_master와 user_log를 사용하여 성별에 따른 이용 차이\n",
    "user_master = customer_master.merge(user_log, on = 'customer_id', how = 'outer')\n",
    "user_master[(user_master['gender']=='F')].loc[:,'customer_id'].count() #여성 고객 방문 수  93,063명 \n",
    "user_master[(user_master['gender']=='M')].loc[:,'customer_id'].count() #남성 고객 방문 수 104,365명\n",
    "# 1년간 약 11,000명의 차이가 나타나는 것을 볼 수 있음 이를 통해 여성 고객을 위한 사업, 이벤트를 추진할 필요가 있다고 생각됨"
   ]
  },
  {
   "cell_type": "code",
   "execution_count": 218,
   "metadata": {},
   "outputs": [
    {
     "data": {
      "text/html": [
       "<div>\n",
       "<style scoped>\n",
       "    .dataframe tbody tr th:only-of-type {\n",
       "        vertical-align: middle;\n",
       "    }\n",
       "\n",
       "    .dataframe tbody tr th {\n",
       "        vertical-align: top;\n",
       "    }\n",
       "\n",
       "    .dataframe thead th {\n",
       "        text-align: right;\n",
       "    }\n",
       "</style>\n",
       "<table border=\"1\" class=\"dataframe\">\n",
       "  <thead>\n",
       "    <tr style=\"text-align: right;\">\n",
       "      <th></th>\n",
       "      <th>customer_id</th>\n",
       "      <th>name</th>\n",
       "      <th>class</th>\n",
       "      <th>gender</th>\n",
       "      <th>start_date</th>\n",
       "      <th>end_date</th>\n",
       "      <th>campaign_id</th>\n",
       "      <th>is_deleted</th>\n",
       "      <th>end_month</th>\n",
       "    </tr>\n",
       "  </thead>\n",
       "  <tbody>\n",
       "    <tr>\n",
       "      <th>708</th>\n",
       "      <td>TS511179</td>\n",
       "      <td>XXXXXX</td>\n",
       "      <td>C01</td>\n",
       "      <td>F</td>\n",
       "      <td>2016-05-01 00:00:00</td>\n",
       "      <td>2018-04-30</td>\n",
       "      <td>CA1</td>\n",
       "      <td>1</td>\n",
       "      <td>201804</td>\n",
       "    </tr>\n",
       "  </tbody>\n",
       "</table>\n",
       "</div>"
      ],
      "text/plain": [
       "    customer_id    name class gender           start_date   end_date  \\\n",
       "708    TS511179  XXXXXX   C01      F  2016-05-01 00:00:00 2018-04-30   \n",
       "\n",
       "    campaign_id  is_deleted end_month  \n",
       "708         CA1           1    201804  "
      ]
     },
     "execution_count": 218,
     "metadata": {},
     "output_type": "execute_result"
    }
   ],
   "source": [
    "# 2-3. 'end_date' 를 통해 월별 탈퇴 회원 수를 분석 가능\n",
    "customer_master['end_date'] = pd.to_datetime(customer_master['end_date'])\n",
    "customer_master['end_month'] = customer_master['end_date'].dt.strftime('%Y%m')\n",
    "customer_master.dropna().head(1)\n",
    "# 년월을 나타내는 컬럼 생성\n"
   ]
  },
  {
   "cell_type": "code",
   "execution_count": 219,
   "metadata": {},
   "outputs": [
    {
     "data": {
      "text/html": [
       "<div>\n",
       "<style scoped>\n",
       "    .dataframe tbody tr th:only-of-type {\n",
       "        vertical-align: middle;\n",
       "    }\n",
       "\n",
       "    .dataframe tbody tr th {\n",
       "        vertical-align: top;\n",
       "    }\n",
       "\n",
       "    .dataframe thead th {\n",
       "        text-align: right;\n",
       "    }\n",
       "</style>\n",
       "<table border=\"1\" class=\"dataframe\">\n",
       "  <thead>\n",
       "    <tr style=\"text-align: right;\">\n",
       "      <th></th>\n",
       "      <th>customer_id</th>\n",
       "      <th>name</th>\n",
       "      <th>class</th>\n",
       "      <th>gender</th>\n",
       "      <th>start_date</th>\n",
       "      <th>end_date</th>\n",
       "      <th>campaign_id</th>\n",
       "      <th>is_deleted</th>\n",
       "      <th>end_month</th>\n",
       "    </tr>\n",
       "  </thead>\n",
       "  <tbody>\n",
       "    <tr>\n",
       "      <th>0</th>\n",
       "      <td>OA832399</td>\n",
       "      <td>XXXX</td>\n",
       "      <td>C01</td>\n",
       "      <td>F</td>\n",
       "      <td>2015-05-01 00:00:00</td>\n",
       "      <td>NaT</td>\n",
       "      <td>CA1</td>\n",
       "      <td>0</td>\n",
       "      <td>NaN</td>\n",
       "    </tr>\n",
       "    <tr>\n",
       "      <th>1</th>\n",
       "      <td>PL270116</td>\n",
       "      <td>XXXXX</td>\n",
       "      <td>C01</td>\n",
       "      <td>M</td>\n",
       "      <td>2015-05-01 00:00:00</td>\n",
       "      <td>NaT</td>\n",
       "      <td>CA1</td>\n",
       "      <td>0</td>\n",
       "      <td>NaN</td>\n",
       "    </tr>\n",
       "    <tr>\n",
       "      <th>2</th>\n",
       "      <td>OA974876</td>\n",
       "      <td>XXXXX</td>\n",
       "      <td>C01</td>\n",
       "      <td>M</td>\n",
       "      <td>2015-05-01 00:00:00</td>\n",
       "      <td>NaT</td>\n",
       "      <td>CA1</td>\n",
       "      <td>0</td>\n",
       "      <td>NaN</td>\n",
       "    </tr>\n",
       "    <tr>\n",
       "      <th>3</th>\n",
       "      <td>HD024127</td>\n",
       "      <td>XXXXX</td>\n",
       "      <td>C01</td>\n",
       "      <td>F</td>\n",
       "      <td>2015-05-01 00:00:00</td>\n",
       "      <td>NaT</td>\n",
       "      <td>CA1</td>\n",
       "      <td>0</td>\n",
       "      <td>NaN</td>\n",
       "    </tr>\n",
       "    <tr>\n",
       "      <th>4</th>\n",
       "      <td>HD661448</td>\n",
       "      <td>XXXXX</td>\n",
       "      <td>C03</td>\n",
       "      <td>F</td>\n",
       "      <td>2015-05-01 00:00:00</td>\n",
       "      <td>NaT</td>\n",
       "      <td>CA1</td>\n",
       "      <td>0</td>\n",
       "      <td>NaN</td>\n",
       "    </tr>\n",
       "    <tr>\n",
       "      <th>...</th>\n",
       "      <td>...</td>\n",
       "      <td>...</td>\n",
       "      <td>...</td>\n",
       "      <td>...</td>\n",
       "      <td>...</td>\n",
       "      <td>...</td>\n",
       "      <td>...</td>\n",
       "      <td>...</td>\n",
       "      <td>...</td>\n",
       "    </tr>\n",
       "    <tr>\n",
       "      <th>4187</th>\n",
       "      <td>HD676663</td>\n",
       "      <td>XXXX</td>\n",
       "      <td>C01</td>\n",
       "      <td>M</td>\n",
       "      <td>2019-03-14 00:00:00</td>\n",
       "      <td>NaT</td>\n",
       "      <td>CA1</td>\n",
       "      <td>0</td>\n",
       "      <td>NaN</td>\n",
       "    </tr>\n",
       "    <tr>\n",
       "      <th>4188</th>\n",
       "      <td>HD246549</td>\n",
       "      <td>XXXXX</td>\n",
       "      <td>C01</td>\n",
       "      <td>F</td>\n",
       "      <td>2019-03-14 00:00:00</td>\n",
       "      <td>NaT</td>\n",
       "      <td>CA1</td>\n",
       "      <td>0</td>\n",
       "      <td>NaN</td>\n",
       "    </tr>\n",
       "    <tr>\n",
       "      <th>4189</th>\n",
       "      <td>GD037007</td>\n",
       "      <td>XXXXX</td>\n",
       "      <td>C03</td>\n",
       "      <td>M</td>\n",
       "      <td>2019-03-14 00:00:00</td>\n",
       "      <td>NaT</td>\n",
       "      <td>CA1</td>\n",
       "      <td>0</td>\n",
       "      <td>NaN</td>\n",
       "    </tr>\n",
       "    <tr>\n",
       "      <th>4190</th>\n",
       "      <td>OA953150</td>\n",
       "      <td>XXXXX</td>\n",
       "      <td>C01</td>\n",
       "      <td>M</td>\n",
       "      <td>2019-03-14 00:00:00</td>\n",
       "      <td>NaT</td>\n",
       "      <td>CA1</td>\n",
       "      <td>0</td>\n",
       "      <td>NaN</td>\n",
       "    </tr>\n",
       "    <tr>\n",
       "      <th>4191</th>\n",
       "      <td>IK692635</td>\n",
       "      <td>XXXXX</td>\n",
       "      <td>C02</td>\n",
       "      <td>F</td>\n",
       "      <td>2019-03-15 00:00:00</td>\n",
       "      <td>NaT</td>\n",
       "      <td>CA1</td>\n",
       "      <td>0</td>\n",
       "      <td>NaN</td>\n",
       "    </tr>\n",
       "  </tbody>\n",
       "</table>\n",
       "<p>4192 rows × 9 columns</p>\n",
       "</div>"
      ],
      "text/plain": [
       "     customer_id   name class gender           start_date end_date  \\\n",
       "0       OA832399   XXXX   C01      F  2015-05-01 00:00:00      NaT   \n",
       "1       PL270116  XXXXX   C01      M  2015-05-01 00:00:00      NaT   \n",
       "2       OA974876  XXXXX   C01      M  2015-05-01 00:00:00      NaT   \n",
       "3       HD024127  XXXXX   C01      F  2015-05-01 00:00:00      NaT   \n",
       "4       HD661448  XXXXX   C03      F  2015-05-01 00:00:00      NaT   \n",
       "...          ...    ...   ...    ...                  ...      ...   \n",
       "4187    HD676663   XXXX   C01      M  2019-03-14 00:00:00      NaT   \n",
       "4188    HD246549  XXXXX   C01      F  2019-03-14 00:00:00      NaT   \n",
       "4189    GD037007  XXXXX   C03      M  2019-03-14 00:00:00      NaT   \n",
       "4190    OA953150  XXXXX   C01      M  2019-03-14 00:00:00      NaT   \n",
       "4191    IK692635  XXXXX   C02      F  2019-03-15 00:00:00      NaT   \n",
       "\n",
       "     campaign_id  is_deleted end_month  \n",
       "0            CA1           0       NaN  \n",
       "1            CA1           0       NaN  \n",
       "2            CA1           0       NaN  \n",
       "3            CA1           0       NaN  \n",
       "4            CA1           0       NaN  \n",
       "...          ...         ...       ...  \n",
       "4187         CA1           0       NaN  \n",
       "4188         CA1           0       NaN  \n",
       "4189         CA1           0       NaN  \n",
       "4190         CA1           0       NaN  \n",
       "4191         CA1           0       NaN  \n",
       "\n",
       "[4192 rows x 9 columns]"
      ]
     },
     "execution_count": 219,
     "metadata": {},
     "output_type": "execute_result"
    }
   ],
   "source": [
    "customer_master"
   ]
  },
  {
   "cell_type": "code",
   "execution_count": 220,
   "metadata": {},
   "outputs": [
    {
     "data": {
      "text/html": [
       "<div>\n",
       "<style scoped>\n",
       "    .dataframe tbody tr th:only-of-type {\n",
       "        vertical-align: middle;\n",
       "    }\n",
       "\n",
       "    .dataframe tbody tr th {\n",
       "        vertical-align: top;\n",
       "    }\n",
       "\n",
       "    .dataframe thead th {\n",
       "        text-align: right;\n",
       "    }\n",
       "</style>\n",
       "<table border=\"1\" class=\"dataframe\">\n",
       "  <thead>\n",
       "    <tr style=\"text-align: right;\">\n",
       "      <th></th>\n",
       "      <th>월별 탈퇴회원 수</th>\n",
       "    </tr>\n",
       "    <tr>\n",
       "      <th>end_month</th>\n",
       "      <th></th>\n",
       "    </tr>\n",
       "  </thead>\n",
       "  <tbody>\n",
       "    <tr>\n",
       "      <th>201804</th>\n",
       "      <td>121</td>\n",
       "    </tr>\n",
       "    <tr>\n",
       "      <th>201805</th>\n",
       "      <td>125</td>\n",
       "    </tr>\n",
       "    <tr>\n",
       "      <th>201806</th>\n",
       "      <td>106</td>\n",
       "    </tr>\n",
       "    <tr>\n",
       "      <th>201807</th>\n",
       "      <td>102</td>\n",
       "    </tr>\n",
       "    <tr>\n",
       "      <th>201808</th>\n",
       "      <td>113</td>\n",
       "    </tr>\n",
       "    <tr>\n",
       "      <th>201809</th>\n",
       "      <td>104</td>\n",
       "    </tr>\n",
       "    <tr>\n",
       "      <th>201810</th>\n",
       "      <td>90</td>\n",
       "    </tr>\n",
       "    <tr>\n",
       "      <th>201811</th>\n",
       "      <td>89</td>\n",
       "    </tr>\n",
       "    <tr>\n",
       "      <th>201812</th>\n",
       "      <td>111</td>\n",
       "    </tr>\n",
       "    <tr>\n",
       "      <th>201901</th>\n",
       "      <td>129</td>\n",
       "    </tr>\n",
       "    <tr>\n",
       "      <th>201902</th>\n",
       "      <td>149</td>\n",
       "    </tr>\n",
       "    <tr>\n",
       "      <th>201903</th>\n",
       "      <td>111</td>\n",
       "    </tr>\n",
       "  </tbody>\n",
       "</table>\n",
       "</div>"
      ],
      "text/plain": [
       "           월별 탈퇴회원 수\n",
       "end_month           \n",
       "201804           121\n",
       "201805           125\n",
       "201806           106\n",
       "201807           102\n",
       "201808           113\n",
       "201809           104\n",
       "201810            90\n",
       "201811            89\n",
       "201812           111\n",
       "201901           129\n",
       "201902           149\n",
       "201903           111"
      ]
     },
     "execution_count": 220,
     "metadata": {},
     "output_type": "execute_result"
    }
   ],
   "source": [
    "user_end_month = customer_master.groupby('end_month').count()[['customer_id']]\n",
    "user_end_month.rename(columns= {'customer_id' : '월별 탈퇴회원 수'}, inplace= True)\n",
    "user_end_month\n",
    "# groupby 를 통해 월별 고객의 방문 수를 나타내는 데이터프레임 생성"
   ]
  },
  {
   "cell_type": "code",
   "execution_count": 221,
   "metadata": {},
   "outputs": [
    {
     "data": {
      "text/html": [
       "<div>\n",
       "<style scoped>\n",
       "    .dataframe tbody tr th:only-of-type {\n",
       "        vertical-align: middle;\n",
       "    }\n",
       "\n",
       "    .dataframe tbody tr th {\n",
       "        vertical-align: top;\n",
       "    }\n",
       "\n",
       "    .dataframe thead th {\n",
       "        text-align: right;\n",
       "    }\n",
       "</style>\n",
       "<table border=\"1\" class=\"dataframe\">\n",
       "  <thead>\n",
       "    <tr style=\"text-align: right;\">\n",
       "      <th></th>\n",
       "      <th>월별 회원가입 수</th>\n",
       "    </tr>\n",
       "    <tr>\n",
       "      <th>start_month</th>\n",
       "      <th></th>\n",
       "    </tr>\n",
       "  </thead>\n",
       "  <tbody>\n",
       "    <tr>\n",
       "      <th>201804</th>\n",
       "      <td>175</td>\n",
       "    </tr>\n",
       "    <tr>\n",
       "      <th>201805</th>\n",
       "      <td>193</td>\n",
       "    </tr>\n",
       "    <tr>\n",
       "      <th>201806</th>\n",
       "      <td>166</td>\n",
       "    </tr>\n",
       "    <tr>\n",
       "      <th>201807</th>\n",
       "      <td>135</td>\n",
       "    </tr>\n",
       "    <tr>\n",
       "      <th>201808</th>\n",
       "      <td>102</td>\n",
       "    </tr>\n",
       "    <tr>\n",
       "      <th>201809</th>\n",
       "      <td>88</td>\n",
       "    </tr>\n",
       "    <tr>\n",
       "      <th>201810</th>\n",
       "      <td>66</td>\n",
       "    </tr>\n",
       "    <tr>\n",
       "      <th>201811</th>\n",
       "      <td>65</td>\n",
       "    </tr>\n",
       "    <tr>\n",
       "      <th>201812</th>\n",
       "      <td>157</td>\n",
       "    </tr>\n",
       "    <tr>\n",
       "      <th>201901</th>\n",
       "      <td>90</td>\n",
       "    </tr>\n",
       "    <tr>\n",
       "      <th>201902</th>\n",
       "      <td>74</td>\n",
       "    </tr>\n",
       "    <tr>\n",
       "      <th>201903</th>\n",
       "      <td>65</td>\n",
       "    </tr>\n",
       "  </tbody>\n",
       "</table>\n",
       "</div>"
      ],
      "text/plain": [
       "             월별 회원가입 수\n",
       "start_month           \n",
       "201804             175\n",
       "201805             193\n",
       "201806             166\n",
       "201807             135\n",
       "201808             102\n",
       "201809              88\n",
       "201810              66\n",
       "201811              65\n",
       "201812             157\n",
       "201901              90\n",
       "201902              74\n",
       "201903              65"
      ]
     },
     "execution_count": 221,
     "metadata": {},
     "output_type": "execute_result"
    }
   ],
   "source": [
    "# 2-4. 'start_date' 를 통해 월별 회원가입 수를 분석 가능\n",
    "customer_master['start_date'] = pd.to_datetime(customer_master['start_date'])\n",
    "customer_master['start_month'] = customer_master['start_date'].dt.strftime('%Y%m')\n",
    "user_start_month = customer_master.groupby('start_month').count()[['customer_id']]\n",
    "user_start_month.rename(columns= {'customer_id' : '월별 회원가입 수'}, inplace= True)\n",
    "user_start_month.tail(12)"
   ]
  },
  {
   "cell_type": "markdown",
   "metadata": {},
   "source": [
    "### 3. class_master 데이터를 통해 얻을 수 있는 정보\n",
    "3-1. 'class' columns 를 통해 2번의 정보들을 3가지 방향(종일, 주간, 야간)으로 분석 가능"
   ]
  },
  {
   "cell_type": "code",
   "execution_count": 222,
   "metadata": {},
   "outputs": [
    {
     "data": {
      "text/html": [
       "<div>\n",
       "<style scoped>\n",
       "    .dataframe tbody tr th:only-of-type {\n",
       "        vertical-align: middle;\n",
       "    }\n",
       "\n",
       "    .dataframe tbody tr th {\n",
       "        vertical-align: top;\n",
       "    }\n",
       "\n",
       "    .dataframe thead th {\n",
       "        text-align: right;\n",
       "    }\n",
       "</style>\n",
       "<table border=\"1\" class=\"dataframe\">\n",
       "  <thead>\n",
       "    <tr style=\"text-align: right;\">\n",
       "      <th></th>\n",
       "      <th>class</th>\n",
       "      <th>class_name</th>\n",
       "      <th>price</th>\n",
       "    </tr>\n",
       "  </thead>\n",
       "  <tbody>\n",
       "    <tr>\n",
       "      <th>0</th>\n",
       "      <td>C01</td>\n",
       "      <td>0_종일</td>\n",
       "      <td>10500</td>\n",
       "    </tr>\n",
       "    <tr>\n",
       "      <th>1</th>\n",
       "      <td>C02</td>\n",
       "      <td>1_주간</td>\n",
       "      <td>7500</td>\n",
       "    </tr>\n",
       "    <tr>\n",
       "      <th>2</th>\n",
       "      <td>C03</td>\n",
       "      <td>2_야간</td>\n",
       "      <td>6000</td>\n",
       "    </tr>\n",
       "  </tbody>\n",
       "</table>\n",
       "</div>"
      ],
      "text/plain": [
       "  class class_name  price\n",
       "0   C01       0_종일  10500\n",
       "1   C02       1_주간   7500\n",
       "2   C03       2_야간   6000"
      ]
     },
     "execution_count": 222,
     "metadata": {},
     "output_type": "execute_result"
    }
   ],
   "source": [
    "class_master # 회원 구분 데이터(가격 = 종일 > 주간 > 야간)"
   ]
  },
  {
   "cell_type": "code",
   "execution_count": 223,
   "metadata": {},
   "outputs": [],
   "source": [
    "user_master_class = customer_master.merge(class_master, on = 'class', how = 'outer')"
   ]
  },
  {
   "cell_type": "code",
   "execution_count": 224,
   "metadata": {},
   "outputs": [
    {
     "data": {
      "text/plain": [
       "class_name\n",
       "0_종일    2045\n",
       "1_주간    1019\n",
       "2_야간    1128\n",
       "Name: customer_id, dtype: int64"
      ]
     },
     "execution_count": 224,
     "metadata": {},
     "output_type": "execute_result"
    }
   ],
   "source": [
    "# 종일, 주간, 야간 별 회원 수\n",
    "user_master_class = user_master_class.groupby('class_name')['customer_id'].count()\n",
    "user_master_class"
   ]
  },
  {
   "cell_type": "markdown",
   "metadata": {},
   "source": [
    "### 4. campaign_master 데이터를 통해 얻을 수 있는 정보\n",
    "4-1. 'campaign_id' columns 를 통해 2번의 정보들을 3가지 방향(일반, 50%, Free)으로 분석 가능"
   ]
  },
  {
   "cell_type": "code",
   "execution_count": 225,
   "metadata": {},
   "outputs": [
    {
     "data": {
      "text/html": [
       "<div>\n",
       "<style scoped>\n",
       "    .dataframe tbody tr th:only-of-type {\n",
       "        vertical-align: middle;\n",
       "    }\n",
       "\n",
       "    .dataframe tbody tr th {\n",
       "        vertical-align: top;\n",
       "    }\n",
       "\n",
       "    .dataframe thead th {\n",
       "        text-align: right;\n",
       "    }\n",
       "</style>\n",
       "<table border=\"1\" class=\"dataframe\">\n",
       "  <thead>\n",
       "    <tr style=\"text-align: right;\">\n",
       "      <th></th>\n",
       "      <th>campaign_id</th>\n",
       "      <th>campaign_name</th>\n",
       "    </tr>\n",
       "  </thead>\n",
       "  <tbody>\n",
       "    <tr>\n",
       "      <th>0</th>\n",
       "      <td>CA1</td>\n",
       "      <td>2_일반</td>\n",
       "    </tr>\n",
       "    <tr>\n",
       "      <th>1</th>\n",
       "      <td>CA2</td>\n",
       "      <td>0_입회비반액할인</td>\n",
       "    </tr>\n",
       "    <tr>\n",
       "      <th>2</th>\n",
       "      <td>CA3</td>\n",
       "      <td>1_입회비무료</td>\n",
       "    </tr>\n",
       "  </tbody>\n",
       "</table>\n",
       "</div>"
      ],
      "text/plain": [
       "  campaign_id campaign_name\n",
       "0         CA1          2_일반\n",
       "1         CA2     0_입회비반액할인\n",
       "2         CA3       1_입회비무료"
      ]
     },
     "execution_count": 225,
     "metadata": {},
     "output_type": "execute_result"
    }
   ],
   "source": [
    "campaign_master # 행사 구분 데이터(입회비 유무 등)"
   ]
  },
  {
   "cell_type": "code",
   "execution_count": 226,
   "metadata": {},
   "outputs": [],
   "source": [
    "user_master_customer = customer_master.merge(campaign_master, on = 'campaign_id', how = 'outer')"
   ]
  },
  {
   "cell_type": "code",
   "execution_count": 227,
   "metadata": {},
   "outputs": [
    {
     "data": {
      "text/plain": [
       "campaign_name\n",
       "0_입회비반액할인     650\n",
       "1_입회비무료       492\n",
       "2_일반         3050\n",
       "Name: customer_id, dtype: int64"
      ]
     },
     "execution_count": 227,
     "metadata": {},
     "output_type": "execute_result"
    }
   ],
   "source": [
    "# 할인 혜택 별 회원 수\n",
    "user_master_customer = user_master_customer.groupby('campaign_name')['customer_id'].count()\n",
    "user_master_customer"
   ]
  },
  {
   "cell_type": "markdown",
   "metadata": {},
   "source": [
    "5. 시각화 - 전처리한 데이터 목록 =  월, 혜택, 시간대, 성별, 탈퇴, 방문, 클래스 등"
   ]
  },
  {
   "cell_type": "code",
   "execution_count": 228,
   "metadata": {},
   "outputs": [
    {
     "data": {
      "text/plain": [
       "(array([ 0,  1,  2,  3,  4,  5,  6,  7,  8,  9, 10, 11]),\n",
       " [Text(0, 0, '201804'),\n",
       "  Text(1, 0, '201805'),\n",
       "  Text(2, 0, '201806'),\n",
       "  Text(3, 0, '201807'),\n",
       "  Text(4, 0, '201808'),\n",
       "  Text(5, 0, '201809'),\n",
       "  Text(6, 0, '201810'),\n",
       "  Text(7, 0, '201811'),\n",
       "  Text(8, 0, '201812'),\n",
       "  Text(9, 0, '201901'),\n",
       "  Text(10, 0, '201902'),\n",
       "  Text(11, 0, '201903')])"
      ]
     },
     "execution_count": 228,
     "metadata": {},
     "output_type": "execute_result"
    },
    {
     "data": {
      "image/png": "[encoded data removed]",
      "text/plain": [
       "<Figure size 432x288 with 1 Axes>"
      ]
     },
     "metadata": {
      "needs_background": "light"
     },
     "output_type": "display_data"
    }
   ],
   "source": [
    "# 1년 간 월별 회원ㆍ탈퇴가입수를 비교하는 그래프를 통해 계절, 국내 이슈 등 고객 유치에 영향을 주는 원인을 분석하여 개선점 및 방향성을 제시하고자 한다.\n",
    "user_startend_month = pd.concat([user_end_month,user_start_month],axis=1)\n",
    "user_startend_month = user_startend_month.dropna()\n",
    "user_startend_month.plot(kind='bar')\n",
    "plt.title(\"1년 간 월별 회원ㆍ탈퇴 가입수\")\n",
    "plt.xlabel(\"2018.03 - 2019.04\")\n",
    "plt.ylabel(\"회원 수\", rotation= 0)\n",
    "plt.xticks(rotation = 30)\n",
    "# 그래프를 통해 2018년 상반기에는 회원 가입자의 수가 1/3가량 많았지만 8월부터 탈퇴회원의 수가 늘어나더니 12월을 제외한 모든 월에 1/2 가까이 차이나는 것을 볼 수 있다.\n",
    "# 이를 통해 계절의 절대적인 영향보다는 스포츠센터에 고객 유치에 영향을 주는 다른 원인이 있었다는 것을 알 수 있다.\n",
    "# 특히 12월만 회원가입 수가 회원탈퇴 수보다 많았던 것은 할인 행사 등 이벤트성의 영향으로 보인다.\n",
    "# 이에 바람직한 방향성은 빠르게 변화하는 현 시점에서 SNS 등 인터넷 문화의 영향을 많이 받는 스포츠센터가 발빠르게 변화에 맞춰가는 것이라고 볼 수 있다."
   ]
  },
  {
   "cell_type": "code",
   "execution_count": 229,
   "metadata": {},
   "outputs": [
    {
     "data": {
      "text/plain": [
       "Text(0, 0.5, '회원 수')"
      ]
     },
     "execution_count": 229,
     "metadata": {},
     "output_type": "execute_result"
    },
    {
     "data": {
      "image/png": "[encoded data removed]",
      "text/plain": [
       "<Figure size 432x288 with 1 Axes>"
      ]
     },
     "metadata": {
      "needs_background": "light"
     },
     "output_type": "display_data"
    }
   ],
   "source": [
    "# bar plot을 사용해 성별,class,회원수를 비교해 지역의 특성을 알아내어 이에 맞춤형 혜택 및 특성화 이벤트를 추천해준다\n",
    "customer_master = customer_master.merge(class_master, on = 'class', how = 'outer')\n",
    "customer_master_genderclass = customer_master.groupby(by=['class_name', 'gender'],as_index=False).count()\n",
    "sns.barplot(data=customer_master_genderclass,x=\"class_name\",y=\"customer_id\", hue=\"gender\")\n",
    "plt.title(\"성별ㆍ시간 별 회원 수\")\n",
    "plt.xlabel(\"시간대\")\n",
    "plt.ylabel(\"회원 수\", rotation= 0)\n",
    "\n",
    "# 아래 그래프를 보면 종일ㆍ야간 회원권은 남성이, 주간 회원권은 여성이 앞도적으로 많은 것을 볼 수 있다.\n",
    "# 이를 통해 스포츠센터가 위치한 지역의 특성은 신혼부부, 전업주부가 많은 신도시 혹은 교육이 특화된 지역일 가능성이 높다.\n",
    "# 지역에 맞는 혜택과 이벤트를 적절히 사용한다면 더욱 활발한 고객 유치가 가능할 것으로 생각된다."
   ]
  },
  {
   "cell_type": "code",
   "execution_count": 230,
   "metadata": {},
   "outputs": [
    {
     "data": {
      "image/png": "[encoded data removed]",
      "text/plain": [
       "<Figure size 432x288 with 1 Axes>"
      ]
     },
     "metadata": {},
     "output_type": "display_data"
    },
    {
     "data": {
      "image/png": "[encoded data removed]",
      "text/plain": [
       "<Figure size 432x288 with 1 Axes>"
      ]
     },
     "metadata": {},
     "output_type": "display_data"
    }
   ],
   "source": [
    "# 위에서 지역 특성을 분석했으니 그에 맞는 맞춤 혜택을 제공하기전, 지금까지 시행되고 있던 행사에 관해 분석하고자 한다.\n",
    "w = {\"edgecolor\": \"black\", \"linewidth\":3, \"width\":1}\n",
    "user_master_class.plot.pie( autopct='%.2f%%', shadow=True, wedgeprops=w)\n",
    "plt.title(\"종일, 주간, 야간 별 회원 수\")\n",
    "plt.axis('equal')\n",
    "plt.show()\n",
    "user_master_customer.plot.pie(autopct='%.2f%%', shadow=True, wedgeprops=w)\n",
    "plt.title(\"행사 구분 데이터(입회비 유무 등)\")\n",
    "plt.axis('equal')\n",
    "plt.show()\n",
    "\n",
    "# 첫 번째 파이형 그래프 봤을 때 주간, 야간보다 종일 회원권의 수가 절반을 차지하기 때문에 위에서 예측했던 지역의 특성에 대해 신빙성을 더 해준다고 생각된다. \n",
    "# 두 번째 파이형 그래프를 통해 행사를 통해 들어온 회원보다 일반적으로 들어온 회원의 수가 3/4을 차지하는 것을 볼 수 있다. \n",
    "# 이는 '1년 간 월별 회원ㆍ탈퇴 가입수' 를 분석했을 때 회원가입수보다 회원탈퇴수가 점점 많아지고 있는 것에 어느 정도 영향을 주고 있다고 생각된다."
   ]
  },
  {
   "cell_type": "code",
   "execution_count": 231,
   "metadata": {},
   "outputs": [
    {
     "data": {
      "text/plain": [
       "Text(0, 0.5, '방문자 수')"
      ]
     },
     "execution_count": 231,
     "metadata": {},
     "output_type": "execute_result"
    },
    {
     "data": {
      "image/png": "[encoded data removed]",
      "text/plain": [
       "<Figure size 432x288 with 1 Axes>"
      ]
     },
     "metadata": {
      "needs_background": "light"
     },
     "output_type": "display_data"
    }
   ],
   "source": [
    "# 1년간 월별 누적 방문 수를 통해 스포츠센터의 전반적인 고객의 반동성을 확인한다.\n",
    "\n",
    "customer_master = customer_master.merge(user_log, on = 'customer_id', how = 'outer')\n",
    "customer_master['usedate'] = pd.to_datetime(customer_master['usedate'])\n",
    "customer_master['use_month'] = customer_master['usedate'].dt.strftime('%Y%m')\n",
    "customer_master_usemonth = customer_master.groupby(by=['use_month'],as_index=False).count()\n",
    "sns.barplot(data=customer_master_usemonth,x=\"use_month\",y=\"customer_id\")\n",
    "plt.title(\"월별 누적 방문자 수\")\n",
    "plt.xlabel(\"2018.03 - 2019.04\")\n",
    "plt.xticks(rotation = 60)\n",
    "plt.ylabel(\"방문자 수\", rotation= 0)\n",
    "\n",
    "# 회원가입수에 비해 회원탈퇴수가 더 증가하고 있는 상황에서 월별 방문자 수의 변화가 거의 없는 것으로 봤을 때 기존 회원들의 방문수가 점점 증가하고 있다는 것을 알 수 있다."
   ]
  },
  {
   "cell_type": "markdown",
   "metadata": {},
   "source": [
    "6. 결론 \n",
    "    \n",
    "    6-1 데이터 분석을 통해 지역이 가지고 있는 특성을 알 수 있었다.\n",
    "\n",
    "    6-2 혜택, 행사, 이벤트 등 신규 회원을 위한 전략이 부족하다고 생각된다.\n",
    "\n",
    "    6-3 기존 회원들의 방문수는 큰 변화는 없었다.\n",
    "\n",
    "    6-4 스포츠센터가 위치한 지역의 특성과 발빠르게 변해가는 시대상에 맞춰 신규 회원을 위한 맞춤형 서비스를 제공하는 것이 1순위이다.\n",
    "\n",
    "    6-5 이러한 방향성에 맞추어 신규 회원을 받고 가장 자신 있는 기존 회원에 대한 유치를 결합한다면 인접한, 다른 스포츠 센터보다 고객 유치를 선점할 수 있을 것이다."
   ]
  }
 ],
 "metadata": {
  "kernelspec": {
   "display_name": "Python 3.10.5 64-bit (windows store)",
   "language": "python",
   "name": "python3"
  },
  "language_info": {
   "codemirror_mode": {
    "name": "ipython",
    "version": 3
   },
   "file_extension": ".py",
   "mimetype": "text/x-python",
   "name": "python",
   "nbconvert_exporter": "python",
   "pygments_lexer": "ipython3",
   "version": "3.10.5"
  },
  "orig_nbformat": 4,
  "vscode": {
   "interpreter": {
    "hash": "ae6978c9a1823fc3d0379f9bc36fbebb4004e83a3366bd671f519957c91af468"
   }
  }
 },
 "nbformat": 4,
 "nbformat_minor": 2
}
